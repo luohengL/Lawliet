{
 "cells": [
  {
   "cell_type": "markdown",
   "metadata": {},
   "source": [
    "## <font color =\"blue\"> Final Project</font>"
   ]
  },
  {
   "cell_type": "markdown",
   "metadata": {},
   "source": [
    "### 总目标：比较线性模型的若干算法, 例如Lasso, Bayesian Lasso, Ridge Regression等等或其他任何适用的算法"
   ]
  },
  {
   "cell_type": "markdown",
   "metadata": {},
   "source": [
    "### 分解动作\n",
    "#### 1. 模拟数据\n",
    "#### 2. 训练模型\n",
    "#### 3. 测试模型\n",
    "#### 4. 结果可视化"
   ]
  },
  {
   "cell_type": "markdown",
   "metadata": {},
   "source": [
    "#### 1. 模拟数据\n",
    "#####    a. 针对线性模型 <font color =\"blue\">$y=X\\beta + e$</font> 模拟生成离散型数据和连续型两类数据\n",
    "#####    b. 提供不同的参数组合(N, M, r)，针对同一组参数，生成若干组(通常30组或50组, 视具体情况而定)模拟数据，数据分为训练数据和测试数据\n",
    "#### <font color = \"red\">问题：</font>\n",
    "#####    <font color = \"red\"> 1. 假设有更多的参数，例如$\\beta$的稀疏度, 相邻两列的相关系数$\\rho$，一共五组参数，如何得到他们的组合？ 有没有一种对任意多的参数都适合的解决方案</font>\n",
    "##### <font color = \"red\">2. 得到这些组合后如何将某一组参数传入函数(这里是问题类的构造函数)呢？</font>\n",
    "\n",
    "\n",
    "#### <font color = \"red\">提示：</font>\n",
    "#####    <font color = \"blue\"> 对应同样一组参数，假设各组样本独立，但共享一个$\\beta$，也就是各个因素的效用固定，X一般来说不一样(也有些模拟假定X一样，只变$e$)， 环境因素$e$不同  </font>\n",
    "#####    c. 为方便数据后续使用，将数据保存至磁盘\n",
    "#### <font color = \"red\">提示：</font>\n",
    "#####    <font color = \"red\">1.如果存储X和y,$\\beta$等数据，那么就需要从文本读取数据然后恢复成一个对象，这导致操作繁琐，也会产生很多的文件,且文本文件本身所占空间也较大 </font>\n",
    "#####   <font color = \"red\">2. 所以我们至少应该采取存储一个类的方式，使用的时候再恢复之？</font>\n",
    "#### <font color = \"red\">问题：</font>\n",
    "#####  <font color = \"red\">1. 如何组织文件？ 是将所有的文件存在一处呢，还是分不同的文件夹？ </font>\n",
    "##### <font color = \"red\">2. 模拟数据这一过程服务于训练模型和测试模型阶段，所以设计的时候应考虑训练模型和测试模型需要怎么去使用这些数据</font>"
   ]
  },
  {
   "cell_type": "markdown",
   "metadata": {},
   "source": [
    "#### 2. 训练模型\n",
    "####     a. 给定至少两个个算法，在每一组参数的模拟数据下(训练数据)训练模型\n",
    "#### <font color = \"red\">提示：</font>\n",
    "#### <font color = \"red\">不同的算法一般有不同的调用方式，参数个数和参数的顺序可能都不一致，为了让他们有一致的使用方式，是否需要对算法进行一个包装？</font>\n",
    "####     b. 为方便模型后续使用，将训练出的模型结果保存至磁盘"
   ]
  },
  {
   "cell_type": "markdown",
   "metadata": {},
   "source": [
    "#### 3. 测试模型\n",
    "####     a. 利用上一步得出的模型，可以采取不同的标准($R^2$, MSE, $\\beta$估计的mse等等)，在对应的测试集上验证结果\n",
    "####     b. 将测试结果保存至磁盘"
   ]
  },
  {
   "cell_type": "markdown",
   "metadata": {},
   "source": [
    "#### 4. 结果可视化\n",
    "####     a. 在每一组参数下，比较不同算法在某种标准下的表现，利用boxplot呈现结果\n",
    "#### <font color = \"red\">提示：</font>\n",
    "#### <font color = \"red\">1. 每一组参数都对应若干组(假设50组)独立的实验，每一组实验每个算法在某种标准下有一个结果，给定算法就存在50个测试结果，画出一个boxplot，对比两个算法，就有两个boxplot画在同一个子图上面，这张子图的纵轴就是参考的标准($R^2$，MSE等)，横轴就是对比的方法</font>\n",
    "#### <font color = \"red\">2. 为了在二维图上更丰富呈现，根据实验结果，我们可以固定某几个参数(比如说固定N)， 变化两个指标(变化M, r)， 画一张大图，包含上述的子图</font>\n",
    "####     b. 将结果图保存"
   ]
  },
  {
   "cell_type": "markdown",
   "metadata": {},
   "source": [
    "## <font color = \"blue\">全局提示：</font>\n",
    "###  <font color = \"blue\">1. 最理想的情况是整个流程可以从模拟数据开始到结果可视化执行完毕，也能够中途从某个结点开始(之前结果有保存)执行到结束. 最初我们可以先不考虑如何保存每个步骤的文件，让整个流程走通，之后再考虑如何从中间保存后的步骤继续.</font>\n",
    "###  <font color=\"blue\">2. 设计的时候应该理清逻辑关系，也就是各个模块之间数据是如何传递的 </font>\n",
    "### <font color=\"blue\">3. 编写代码逐个类逐个函数地编写和测试，保证每一小步都正确</font>\n",
    "### <font color=\"blue\">4. 未完待续！</font>"
   ]
  },
  {
   "cell_type": "code",
   "execution_count": null,
   "metadata": {},
   "outputs": [],
   "source": []
  }
 ],
 "metadata": {
  "kernelspec": {
   "display_name": "Python 3",
   "language": "python",
   "name": "python3"
  },
  "language_info": {
   "codemirror_mode": {
    "name": "ipython",
    "version": 3
   },
   "file_extension": ".py",
   "mimetype": "text/x-python",
   "name": "python",
   "nbconvert_exporter": "python",
   "pygments_lexer": "ipython3",
   "version": "3.7.3"
  }
 },
 "nbformat": 4,
 "nbformat_minor": 4
}
